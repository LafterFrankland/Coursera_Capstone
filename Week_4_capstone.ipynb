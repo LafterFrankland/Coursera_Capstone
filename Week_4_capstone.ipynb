{
 "cells": [
  {
   "cell_type": "markdown",
   "metadata": {},
   "source": [
    "# Capstone Project - Week 4"
   ]
  },
  {
   "cell_type": "markdown",
   "metadata": {},
   "source": [
    "### Introduction"
   ]
  },
  {
   "cell_type": "markdown",
   "metadata": {},
   "source": [
    "The price of houses in Toronto have been increasing for many years. However, houses in some area grow at an exponential rate relative to others.Though the physical appearance and size affects the price of the house, a more important factor is it's location. In some areas, old one story houses may cost millions of dollars while new large houses in other locations may only be hundreds of thousands of dollars. The location in which a house is situated is worth much more than its physical appearance. In this capstone project, the relation between housing prices and location will be investigated. In particular, venues of various neighborhoods will be compared in an attempt to identify what particular things attract higher prices in these houses. "
   ]
  },
  {
   "cell_type": "markdown",
   "metadata": {},
   "source": [
    "### Data"
   ]
  },
  {
   "cell_type": "markdown",
   "metadata": {},
   "source": [
    "Foursquare will be used to find top venues of various neighborhoods of Toronto. \n",
    "\n",
    "Data from the following site will also be used: https://www.zoocasa.com/blog/toronto-condo-house-prices-five-years/\n",
    "\n",
    "In particular, the table displays the increase in price from 2014 to 2019. These price increases will be compared with the top venues displayed from Foursquare. With further analysis, the goal is to identify if there is a trend of venues that are common among the fastest growing neighborhoods. "
   ]
  },
  {
   "cell_type": "code",
   "execution_count": null,
   "metadata": {},
   "outputs": [],
   "source": []
  }
 ],
 "metadata": {
  "kernelspec": {
   "display_name": "Python 3",
   "language": "python",
   "name": "python3"
  },
  "language_info": {
   "codemirror_mode": {
    "name": "ipython",
    "version": 3
   },
   "file_extension": ".py",
   "mimetype": "text/x-python",
   "name": "python",
   "nbconvert_exporter": "python",
   "pygments_lexer": "ipython3",
   "version": "3.7.4"
  }
 },
 "nbformat": 4,
 "nbformat_minor": 2
}
